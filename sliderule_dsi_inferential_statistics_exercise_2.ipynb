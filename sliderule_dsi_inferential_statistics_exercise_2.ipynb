{
 "cells": [
  {
   "cell_type": "markdown",
   "metadata": {},
   "source": [
    "# Examining Racial Discrimination in the US Job Market\n",
    "\n",
    "### Background\n",
    "Racial discrimination continues to be pervasive in cultures throughout the world. Researchers examined the level of racial discrimination in the United States labor market by randomly assigning identical résumés to black-sounding or white-sounding names and observing the impact on requests for interviews from employers.\n",
    "\n",
    "### Data\n",
    "In the dataset provided, each row represents a resume. The 'race' column has two values, 'b' and 'w', indicating black-sounding and white-sounding. The column 'call' has two values, 1 and 0, indicating whether the resume received a call from employers or not.\n",
    "\n",
    "Note that the 'b' and 'w' values in race are assigned randomly to the resumes when presented to the employer."
   ]
  },
  {
   "cell_type": "markdown",
   "metadata": {},
   "source": [
    "<div class=\"span5 alert alert-info\">\n",
    "### Exercises\n",
    "You will perform a statistical analysis to establish whether race has a significant impact on the rate of callbacks for resumes.\n",
    "\n",
    "Answer the following questions **in this notebook below and submit to your Github account**. \n",
    "\n",
    "   1. What test is appropriate for this problem? Does CLT apply?\n",
    "   2. What are the null and alternate hypotheses?\n",
    "   3. Compute margin of error, confidence interval, and p-value. Try using both the bootstrapping and the frequentist statistical approaches.\n",
    "   4. Write a story describing the statistical significance in the context or the original problem.\n",
    "   5. Does your analysis mean that race/name is the most important factor in callback success? Why or why not? If not, how would you amend your analysis?\n",
    "\n",
    "You can include written notes in notebook cells using Markdown: \n",
    "   - In the control panel at the top, choose Cell > Cell Type > Markdown\n",
    "   - Markdown syntax: http://nestacms.com/docs/creating-content/markdown-cheat-sheet\n",
    "\n",
    "\n",
    "#### Resources\n",
    "+ Experiment information and data source: http://www.povertyactionlab.org/evaluation/discrimination-job-market-united-states\n",
    "+ Scipy statistical methods: http://docs.scipy.org/doc/scipy/reference/stats.html \n",
    "+ Markdown syntax: http://nestacms.com/docs/creating-content/markdown-cheat-sheet\n",
    "+ Formulas for the Bernoulli distribution: https://en.wikipedia.org/wiki/Bernoulli_distribution\n",
    "</div>\n",
    "****"
   ]
  },
  {
   "cell_type": "code",
   "execution_count": 1,
   "metadata": {},
   "outputs": [],
   "source": [
    "import pandas as pd\n",
    "import numpy as np\n",
    "import matplotlib.pyplot as plt\n",
    "from scipy import stats"
   ]
  },
  {
   "cell_type": "code",
   "execution_count": 2,
   "metadata": {},
   "outputs": [],
   "source": [
    "data = pd.io.stata.read_stata('data/us_job_market_discrimination.dta')"
   ]
  },
  {
   "cell_type": "code",
   "execution_count": 3,
   "metadata": {},
   "outputs": [
    {
     "data": {
      "text/plain": [
       "157.0"
      ]
     },
     "execution_count": 3,
     "metadata": {},
     "output_type": "execute_result"
    }
   ],
   "source": [
    "# number of callbacks for black-sounding names\n",
    "sum(data[data.race=='b'].call)"
   ]
  },
  {
   "cell_type": "code",
   "execution_count": 4,
   "metadata": {},
   "outputs": [
    {
     "data": {
      "text/plain": [
       "235.0"
      ]
     },
     "execution_count": 4,
     "metadata": {},
     "output_type": "execute_result"
    }
   ],
   "source": [
    "# number of callbacks for white-sounding names\n",
    "sum(data[data.race=='w'].call)"
   ]
  },
  {
   "cell_type": "code",
   "execution_count": 5,
   "metadata": {},
   "outputs": [
    {
     "data": {
      "text/plain": [
       "array(['id', 'ad', 'education', 'ofjobs', 'yearsexp', 'honors',\n",
       "       'volunteer', 'military', 'empholes', 'occupspecific', 'occupbroad',\n",
       "       'workinschool', 'email', 'computerskills', 'specialskills',\n",
       "       'firstname', 'sex', 'race', 'h', 'l', 'call', 'city', 'kind',\n",
       "       'adid', 'fracblack', 'fracwhite', 'lmedhhinc', 'fracdropout',\n",
       "       'fraccolp', 'linc', 'col', 'expminreq', 'schoolreq', 'eoe',\n",
       "       'parent_sales', 'parent_emp', 'branch_sales', 'branch_emp', 'fed',\n",
       "       'fracblack_empzip', 'fracwhite_empzip', 'lmedhhinc_empzip',\n",
       "       'fracdropout_empzip', 'fraccolp_empzip', 'linc_empzip', 'manager',\n",
       "       'supervisor', 'secretary', 'offsupport', 'salesrep', 'retailsales',\n",
       "       'req', 'expreq', 'comreq', 'educreq', 'compreq', 'orgreq', 'manuf',\n",
       "       'transcom', 'bankreal', 'trade', 'busservice', 'othservice',\n",
       "       'missind', 'ownership'], dtype=object)"
      ]
     },
     "execution_count": 5,
     "metadata": {},
     "output_type": "execute_result"
    }
   ],
   "source": [
    "# Block used for intial inspection\n",
    "# data.head()\n",
    "data.columns.values\n",
    "# len(data)\n",
    "# type(data)"
   ]
  },
  {
   "cell_type": "markdown",
   "metadata": {
    "collapsed": true
   },
   "source": [
    "<div class=\"span5 alert alert-success\">\n",
    "<p>Your answers to Q1 and Q2 here</p>\n",
    "</div>\n",
    "\n",
    "# Question 1: \n",
    "We will use a two sample bootstrap hypothesis test, since we are comparing the means of two different data sets.  The CLT applies as both data sets are large (2435 entries each) and we assume that the jobs do not \"fill\" that is to say, person A getting a call has no impact on person B getting a call. \n",
    "</div>\n",
    "\n",
    "# Question 2:\n",
    "The null hypothesis is that mean number of calls within a two sample bootstrap should be similar. That is to say, that there is no racial discrimination. The alternative hypothesis is that the means are significantly different, showcasing some sort of discrimination. \n"
   ]
  },
  {
   "cell_type": "code",
   "execution_count": 6,
   "metadata": {},
   "outputs": [
    {
     "name": "stdout",
     "output_type": "stream",
     "text": [
      "2435\n",
      "2435\n",
      "4870\n"
     ]
    }
   ],
   "source": [
    "w = data[data.race=='w']\n",
    "b = data[data.race=='b']\n",
    "print(len(w))\n",
    "print(len(b))\n",
    "print(len(data))"
   ]
  },
  {
   "cell_type": "markdown",
   "metadata": {},
   "source": [
    "# Question 3: \n",
    "Determine margin of error and confidence interval\n",
    "\n",
    "Here we use a two sample bootstrap method to test the null hypothesis. We learn that the p value is very small, so we reject it in favor of the alternative hypothesis."
   ]
  },
  {
   "cell_type": "code",
   "execution_count": 8,
   "metadata": {},
   "outputs": [
    {
     "name": "stdout",
     "output_type": "stream",
     "text": [
      "p-value = 0.0\n",
      "Since the p value is below 0.05 we reject the null hypothesis\n",
      "\n",
      "\n",
      "Values outside of the range:  [ 0.0550308   0.07474332]  are considered abnormal for black candidates\n",
      "Values outside of the range:  [ 0.08542094  0.10841889]  are considered abnormal for white candidates\n"
     ]
    },
    {
     "data": {
      "image/png": "[encoded data removed]",
      "text/plain": [
       "<matplotlib.figure.Figure at 0x21ef40b2940>"
      ]
     },
     "metadata": {},
     "output_type": "display_data"
    },
    {
     "data": {
      "image/png": "[encoded data removed]",
      "text/plain": [
       "<matplotlib.figure.Figure at 0x21ef4170ef0>"
      ]
     },
     "metadata": {},
     "output_type": "display_data"
    },
    {
     "name": "stdout",
     "output_type": "stream",
     "text": [
      "The two sample z score is:  2.9224096095371053\n",
      "The z test result is:  0.00347334421949\n",
      "As this value is far below 0.05 we reject the null hypothesis and accept the alternative hypothesis\n",
      "\n",
      "\n",
      "Mean callbacks per black candidate:  0.0644763857126236\n",
      "Mean callbacks per white candidate:  0.09650924056768417\n",
      "\n",
      "\n",
      "Std of callbacks per black candidate:  0.24559901654720306\n",
      "Std of callbacks per white candidate:  0.29528486728668213\n"
     ]
    }
   ],
   "source": [
    "# Your solution to Q3 here\n",
    "\n",
    "# Implement the bootstrapping functions from the Datacamp Course: Statistical Thinking in Python (Part 1)\n",
    "# Author: Justin Bois\n",
    "def ecdf(data):\n",
    "    \"\"\"Compute ECDF for a one-dimensional array of measurements.\"\"\"\n",
    "\n",
    "    # Number of data points: n\n",
    "    n = len(data)\n",
    "\n",
    "    # x-data for the ECDF: x\n",
    "    x = np.sort(data)\n",
    "\n",
    "    # y-data for the ECDF: y\n",
    "    y = np.arange(1, n+1) / n\n",
    "\n",
    "    return x, y\n",
    "\n",
    "# Implement the bootstrapping functions from the Datacamp Course: Statistical Thinking in Python (Part 2)\n",
    "# Author: Justin Bois\n",
    "def bootstrap_replicate_1d(data, func):\n",
    "    return func(np.random.choice(data, size=len(data)))\n",
    "\n",
    "def draw_bs_reps(data, func, size=1):\n",
    "    \"\"\"Draw bootstrap replicates.\"\"\"\n",
    "\n",
    "    # Initialize array of replicates: bs_replicates\n",
    "    bs_replicates = np.empty(size)\n",
    "\n",
    "    # Generate replicates\n",
    "    for i in range(size):\n",
    "        bs_replicates[i] = bootstrap_replicate_1d(data, func)\n",
    "\n",
    "    return bs_replicates\n",
    "##\n",
    "# End of section from Justin Bois's Datacamp course\n",
    "##\n",
    "\n",
    "# Test if black and white candidates receive a similar number of phone calls back from employers.\n",
    "# Null hypothesis: white and black candidates have similar calls per .\n",
    "\n",
    "# Separate df into black calls and white calls\n",
    "wCalls = w['call']\n",
    "bCalls = b['call']\n",
    "\n",
    "# These values show the average number of calls each candidate receives. \n",
    "wCall_mean = sum(w.call)/len(w)\n",
    "bCall_mean = sum(b.call)/len(b)\n",
    "\n",
    "# Caluculate the difference in means\n",
    "call_mean_diff = wCall_mean - bCall_mean\n",
    "\n",
    "\n",
    "# Concatenate calls: call_concat\n",
    "call_concat = np.concatenate((wCalls, bCalls))\n",
    "\n",
    "# Initialize bootstrap replicates: bs_replicates\n",
    "bs_replicates = np.empty(10000)\n",
    "\n",
    "for i in range(10000):\n",
    "    # Generate bootstrap sample\n",
    "    bs_sample = np.random.choice(call_concat, size=len(call_concat))\n",
    "    \n",
    "    # Compute replicate\n",
    "    bs_replicates[i] = np.mean(bs_sample[:len(wCalls)]) - np.mean(\n",
    "                                     bs_sample[len(bCalls):])\n",
    "\n",
    "# Compute and print p-value: p\n",
    "p = np.sum(bs_replicates >= call_mean_diff) / len(bs_replicates)\n",
    "print('p-value =', p)\n",
    "print('Since the p value is below 0.05 we reject the null hypothesis')\n",
    "print('\\n')\n",
    "\n",
    "# Calculate confidence interval \n",
    "# Calculate and plot standard error of the mean\n",
    "bs_b_call_reps = draw_bs_reps(bCalls, np.mean, 10000)\n",
    "bs_w_call_reps = draw_bs_reps(wCalls, np.mean, 10000)\n",
    "\n",
    "# Compute the 95% confidence interval: conf_int\n",
    "b_conf_int = np.percentile(bs_b_call_reps, [2.5, 97.5])\n",
    "w_conf_int = np.percentile(bs_w_call_reps, [2.5, 97.5])\n",
    "\n",
    "# Print the confidence interval\n",
    "print('Values outside of the range: ', b_conf_int, ' are considered abnormal for black candidates')\n",
    "print('Values outside of the range: ', w_conf_int, ' are considered abnormal for white candidates')\n",
    "\n",
    "\n",
    "\n",
    "# Compute standard error of the mean \n",
    "# Calculate and plot standard error of the mean for black candidates\n",
    "bsTemp_b_reps = draw_bs_reps(bCalls, np.mean, 10000)\n",
    "b_sem = np.std(bCalls) / np.sqrt(len(bCalls))\n",
    "bsTemp_b_std = np.std(bsTemp_b_reps)\n",
    "# print(bsTemp_b_std)\n",
    "\n",
    "plt.title('Histogram of callbacks for black candidates')\n",
    "plt.hist(bsTemp_b_reps, bins = 25, normed = True, alpha=0.75, histtype='bar', ec='black')\n",
    "plt.xlabel('Mean calls per black candidate')\n",
    "plt.xticks(np.arange(0.050, 0.12, step=0.01))\n",
    "plt.ylabel('PDF')\n",
    "plt.show()\n",
    "plt.clf()\n",
    "\n",
    "\n",
    "# Calculate and plot standard error of the mean for white candidates\n",
    "bsTemp_w_reps = draw_bs_reps(wCalls, np.mean, 10000)\n",
    "w_sem = np.std(wCalls) / np.sqrt(len(wCalls))\n",
    "bsTemp_w_std = np.std(bsTemp_w_reps)\n",
    "# print(bsTemp_w_std)\n",
    "\n",
    "plt.title('Histogram of callbacks for white candidates')\n",
    "plt.hist(bsTemp_w_reps, bins = 25, normed = True, alpha=0.75, histtype='bar', ec='black')\n",
    "plt.xticks(np.arange(0.050, 0.12, step=0.01))\n",
    "plt.xlabel('Mean calls per black candidate')\n",
    "plt.ylabel('PDF')\n",
    "plt.show()\n",
    "plt.clf()\n",
    "\n",
    "\n",
    "\n",
    "# Plot CDFs\n",
    "# Compute mean and standard deviation: mu, sigma\n",
    "mu_b = np.mean(bCalls)\n",
    "sigma_b = np.std(bCalls)\n",
    "n_b = len(bCalls)\n",
    "\n",
    "mu_w = np.mean(wCalls)\n",
    "sigma_w = np.std(wCalls)\n",
    "n_w = len(wCalls)\n",
    "\n",
    "# Compute the two sample z test (delta = 0)\n",
    "z = (mu_w - mu_b - 0) / ( (((sigma_b**2)/n_b)**0.5) + (((sigma_w**2)/n_w)**0.5) )   \n",
    "print('The two sample z score is: ', z)\n",
    "\n",
    "from scipy import stats\n",
    "# Multiply by two for the two tailed test\n",
    "z_result = stats.norm.sf(abs(z))*2\n",
    "\n",
    "print('The z test result is: ', z_result)\n",
    "print('As this value is far below 0.05 we reject the null hypothesis and accept the alternative hypothesis')\n",
    "\n",
    "print('\\n')\n",
    "print('Mean callbacks per black candidate: ', mu_b)\n",
    "print('Mean callbacks per white candidate: ', mu_w)\n",
    "print('\\n')\n",
    "print('Std of callbacks per black candidate: ', sigma_b)\n",
    "print('Std of callbacks per white candidate: ', sigma_w)\n"
   ]
  },
  {
   "cell_type": "markdown",
   "metadata": {},
   "source": [
    "<div class=\"span5 alert alert-success\">\n",
    "<p> Your answers to Q4 and Q5 here </p>\n",
    "</div>\n",
    "# Question 4: \n",
    "As the two sample z score is 2.922, leading to a test statistic of 0.0035 we reject the null hypothesis that the mean callbacks per candidates of different races. This means the the alternative hypothesis holds within the data set. \n",
    "\n",
    "The implication of our results is that employers tend to, whether intentional or not, discriminate against invidivuals whose names would be considered a part of black culture. This is an important social issue that I will leave to the politicians and activist to tackle. Here I will focus on the data set. One key piece of information is that the standard deviation of callbacks for the black candidates was smaller than that of the white candidates. This may be indicative of bias against black candidates making up a portion of callback decision, as opposed to entirely relying on credentials. \n",
    "\n",
    "\n",
    "# Question 5:\n",
    "Since the entires were identical aside from the name and race, we do not need to delve into two sample bootstrap experiments for every variable in the resumes to determine if one category is more impactful for black or white individuals. However, this does not mean that race is necessarily the most important factor to callback success. In order to determine the most important factors we could do one of the following: \n",
    "\n",
    "1.) Conduct a principal component analysis to find which combination of variables constituted the majority of the variance.\n",
    "\n",
    "2.) Determine the difference in mean callbacks between subsections of the data with different values for: rank, computerskills, yearsexp, etc. and find the difference of means between the different subcollections. The variable that yield the greatest difference of means between it's different groups is the most important variable for callback success. "
   ]
  }
 ],
 "metadata": {
  "kernelspec": {
   "display_name": "Python 3",
   "language": "python",
   "name": "python3"
  },
  "language_info": {
   "codemirror_mode": {
    "name": "ipython",
    "version": 3
   },
   "file_extension": ".py",
   "mimetype": "text/x-python",
   "name": "python",
   "nbconvert_exporter": "python",
   "pygments_lexer": "ipython3",
   "version": "3.6.3"
  }
 },
 "nbformat": 4,
 "nbformat_minor": 1
}
